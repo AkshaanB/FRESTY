{
 "cells": [
  {
   "cell_type": "code",
   "execution_count": 1,
   "metadata": {},
   "outputs": [],
   "source": [
    "import tensorflow as tf"
   ]
  },
  {
   "cell_type": "code",
   "execution_count": 2,
   "metadata": {},
   "outputs": [],
   "source": [
    "from tensorflow.keras.models import Sequential\n",
    "from tensorflow.keras.layers import Dense, Conv2D, Flatten, Dropout, MaxPooling2D\n",
    "from tensorflow.keras.preprocessing.image import ImageDataGenerator\n",
    "\n",
    "import os\n",
    "import numpy as np\n",
    "import matplotlib.pyplot as plt"
   ]
  },
  {
   "cell_type": "code",
   "execution_count": 3,
   "metadata": {},
   "outputs": [],
   "source": [
    "import cv2"
   ]
  },
  {
   "cell_type": "markdown",
   "metadata": {},
   "source": [
    "**Loading the data**"
   ]
  },
  {
   "cell_type": "code",
   "execution_count": 4,
   "metadata": {},
   "outputs": [],
   "source": [
    "data_dir = r\"D:\\My Work\\Syllabus\\SDGP\\Datasets\\OriginalProject\\Project\\Apples\""
   ]
  },
  {
   "cell_type": "code",
   "execution_count": 5,
   "metadata": {},
   "outputs": [],
   "source": [
    "path = os.path.join(data_dir,\"OldApproach\")"
   ]
  },
  {
   "cell_type": "code",
   "execution_count": 6,
   "metadata": {},
   "outputs": [
    {
     "name": "stdout",
     "output_type": "stream",
     "text": [
      "True\n"
     ]
    }
   ],
   "source": [
    "print(os.path.exists(path))"
   ]
  },
  {
   "cell_type": "code",
   "execution_count": 7,
   "metadata": {},
   "outputs": [],
   "source": [
    "train_dir = os.path.join(path,\"Train\")\n",
    "test_dir = os.path.join(path,\"Test\")"
   ]
  },
  {
   "cell_type": "code",
   "execution_count": 8,
   "metadata": {},
   "outputs": [],
   "source": [
    "train_good_apples = os.path.join(train_dir,\"Good apples\")\n",
    "train_bad_apples = os.path.join(train_dir,\"Bad apples\")\n",
    "test_good_apples = os.path.join(test_dir,\"Good apples\")\n",
    "test_bad_apples = os.path.join(test_dir,\"Bad apples\")"
   ]
  },
  {
   "cell_type": "markdown",
   "metadata": {},
   "source": [
    "**Understanding the data**"
   ]
  },
  {
   "cell_type": "code",
   "execution_count": 9,
   "metadata": {},
   "outputs": [],
   "source": [
    "num_good_apples_train = len(os.listdir(train_good_apples))\n",
    "num_bad_apples_train = len(os.listdir(train_bad_apples))\n",
    "num_good_apples_test = len(os.listdir(test_good_apples))\n",
    "num_bad_apples_test = len(os.listdir(test_bad_apples))\n",
    "\n",
    "total_train_apples = num_good_apples_train + num_bad_apples_train\n",
    "total_test_apples = num_good_apples_test + num_bad_apples_test"
   ]
  },
  {
   "cell_type": "code",
   "execution_count": 10,
   "metadata": {},
   "outputs": [
    {
     "name": "stdout",
     "output_type": "stream",
     "text": [
      "Total training Good apples:  1693\n",
      "Total training Bad apples:  2342\n",
      "Total testing Good apples:  395\n",
      "Total testing Bad apples:  601\n",
      "--\n",
      "Total training apples:  4035\n",
      "Total testing apples:  996\n"
     ]
    }
   ],
   "source": [
    "print('Total training Good apples: ', num_good_apples_train)\n",
    "print('Total training Bad apples: ', num_bad_apples_train)\n",
    "\n",
    "print('Total testing Good apples: ', num_good_apples_test)\n",
    "print('Total testing Bad apples: ', num_bad_apples_test)\n",
    "print(\"--\")\n",
    "print(\"Total training apples: \", total_train_apples)\n",
    "print(\"Total testing apples: \", total_test_apples)"
   ]
  },
  {
   "cell_type": "code",
   "execution_count": 11,
   "metadata": {},
   "outputs": [],
   "source": [
    "size = 32\n",
    "epochs = 15\n",
    "IMG_HEIGHT = 100\n",
    "IMG_WIDTH = 100"
   ]
  },
  {
   "cell_type": "markdown",
   "metadata": {},
   "source": [
    "**Preparing the data**"
   ]
  },
  {
   "cell_type": "code",
   "execution_count": 12,
   "metadata": {},
   "outputs": [],
   "source": [
    "train_image_generator = ImageDataGenerator(rescale=1./255) # Generator for training data\n",
    "test_image_generator = ImageDataGenerator(rescale=1./255) # Generator for testing data"
   ]
  },
  {
   "cell_type": "code",
   "execution_count": 13,
   "metadata": {},
   "outputs": [
    {
     "name": "stdout",
     "output_type": "stream",
     "text": [
      "Found 4035 images belonging to 2 classes.\n"
     ]
    }
   ],
   "source": [
    "train_gen = train_image_generator.flow_from_directory(batch_size = size, directory = train_dir, shuffle = True, target_size = (IMG_HEIGHT,IMG_WIDTH), class_mode = 'binary')"
   ]
  },
  {
   "cell_type": "code",
   "execution_count": 14,
   "metadata": {},
   "outputs": [
    {
     "name": "stdout",
     "output_type": "stream",
     "text": [
      "Found 996 images belonging to 2 classes.\n"
     ]
    }
   ],
   "source": [
    "test_gen = test_image_generator.flow_from_directory(batch_size = size, directory = test_dir, target_size = (IMG_HEIGHT,IMG_WIDTH), class_mode = 'binary')"
   ]
  },
  {
   "cell_type": "markdown",
   "metadata": {},
   "source": [
    "**Creating the model**"
   ]
  },
  {
   "cell_type": "code",
   "execution_count": 15,
   "metadata": {},
   "outputs": [],
   "source": [
    "model = Sequential([\n",
    "        Conv2D(16,3,padding='same',activation='relu',input_shape=(IMG_HEIGHT,IMG_WIDTH,3)),\n",
    "        MaxPooling2D(),\n",
    "        Conv2D(32,3,padding='same',activation='relu'),\n",
    "        MaxPooling2D(),\n",
    "        Conv2D(64,3,padding='same',activation='relu'),\n",
    "        MaxPooling2D(),\n",
    "        Flatten(),\n",
    "        Dense(512,activation='relu'),\n",
    "        Dense(1)\n",
    "    ])"
   ]
  },
  {
   "cell_type": "code",
   "execution_count": 16,
   "metadata": {},
   "outputs": [],
   "source": [
    "model.compile(optimizer='adam',\n",
    "              loss=tf.keras.losses.BinaryCrossentropy(from_logits=True),\n",
    "              metrics=['accuracy'])"
   ]
  },
  {
   "cell_type": "code",
   "execution_count": 17,
   "metadata": {},
   "outputs": [
    {
     "name": "stdout",
     "output_type": "stream",
     "text": [
      "Model: \"sequential\"\n",
      "_________________________________________________________________\n",
      "Layer (type)                 Output Shape              Param #   \n",
      "=================================================================\n",
      "conv2d (Conv2D)              (None, 100, 100, 16)      448       \n",
      "_________________________________________________________________\n",
      "max_pooling2d (MaxPooling2D) (None, 50, 50, 16)        0         \n",
      "_________________________________________________________________\n",
      "conv2d_1 (Conv2D)            (None, 50, 50, 32)        4640      \n",
      "_________________________________________________________________\n",
      "max_pooling2d_1 (MaxPooling2 (None, 25, 25, 32)        0         \n",
      "_________________________________________________________________\n",
      "conv2d_2 (Conv2D)            (None, 25, 25, 64)        18496     \n",
      "_________________________________________________________________\n",
      "max_pooling2d_2 (MaxPooling2 (None, 12, 12, 64)        0         \n",
      "_________________________________________________________________\n",
      "flatten (Flatten)            (None, 9216)              0         \n",
      "_________________________________________________________________\n",
      "dense (Dense)                (None, 512)               4719104   \n",
      "_________________________________________________________________\n",
      "dense_1 (Dense)              (None, 1)                 513       \n",
      "=================================================================\n",
      "Total params: 4,743,201\n",
      "Trainable params: 4,743,201\n",
      "Non-trainable params: 0\n",
      "_________________________________________________________________\n"
     ]
    }
   ],
   "source": [
    "model.summary()"
   ]
  },
  {
   "cell_type": "markdown",
   "metadata": {},
   "source": [
    "**Training the data**"
   ]
  },
  {
   "cell_type": "code",
   "execution_count": 18,
   "metadata": {},
   "outputs": [
    {
     "name": "stdout",
     "output_type": "stream",
     "text": [
      "Epoch 1/15\n",
      "4035/4035 [==============================] - 2222s 551ms/step - loss: 0.0743 - accuracy: 0.9670 - val_loss: 0.0504 - val_accuracy: 0.9900\n",
      "Epoch 2/15\n",
      "4035/4035 [==============================] - 1386s 343ms/step - loss: 2.6806e-05 - accuracy: 1.0000 - val_loss: 0.0519 - val_accuracy: 0.9899\n",
      "Epoch 3/15\n",
      "4035/4035 [==============================] - 1271s 315ms/step - loss: 1.6651e-06 - accuracy: 1.0000 - val_loss: 0.0544 - val_accuracy: 0.9910\n",
      "Epoch 4/15\n",
      "4035/4035 [==============================] - 1722s 427ms/step - loss: 1.6389e-07 - accuracy: 1.0000 - val_loss: 0.0559 - val_accuracy: 0.9910\n",
      "Epoch 5/15\n",
      "4035/4035 [==============================] - 1775s 440ms/step - loss: 1.9214e-08 - accuracy: 1.0000 - val_loss: 0.0583 - val_accuracy: 0.9910\n",
      "Epoch 6/15\n",
      "4035/4035 [==============================] - 1774s 440ms/step - loss: 2.7443e-09 - accuracy: 1.0000 - val_loss: 0.0626 - val_accuracy: 0.9909\n",
      "Epoch 7/15\n",
      "4035/4035 [==============================] - 2085s 517ms/step - loss: 4.8020e-10 - accuracy: 1.0000 - val_loss: 0.0639 - val_accuracy: 0.9890\n",
      "Epoch 8/15\n",
      "4035/4035 [==============================] - 3396s 842ms/step - loss: 0.0427 - accuracy: 0.9857 - val_loss: 0.0714 - val_accuracy: 0.9850\n",
      "Epoch 9/15\n",
      "4035/4035 [==============================] - 8412s 2s/step - loss: 5.6535e-05 - accuracy: 1.0000 - val_loss: 0.0939 - val_accuracy: 0.9779\n",
      "Epoch 10/15\n",
      "4035/4035 [==============================] - 1872s 464ms/step - loss: 2.2449e-06 - accuracy: 1.0000 - val_loss: 0.1018 - val_accuracy: 0.9759\n",
      "Epoch 11/15\n",
      "4035/4035 [==============================] - 1206s 299ms/step - loss: 2.3007e-07 - accuracy: 1.0000 - val_loss: 0.1147 - val_accuracy: 0.9758\n",
      "Epoch 12/15\n",
      "4035/4035 [==============================] - 1177s 292ms/step - loss: 3.2013e-08 - accuracy: 1.0000 - val_loss: 0.1262 - val_accuracy: 0.9759\n",
      "Epoch 13/15\n",
      "4035/4035 [==============================] - 4833s 1s/step - loss: 5.2198e-09 - accuracy: 1.0000 - val_loss: 0.1377 - val_accuracy: 0.9769\n",
      "Epoch 14/15\n",
      "4035/4035 [==============================] - 1296s 321ms/step - loss: 9.5838e-10 - accuracy: 1.0000 - val_loss: 0.1601 - val_accuracy: 0.9760\n",
      "Epoch 15/15\n",
      "4035/4035 [==============================] - 1210s 300ms/step - loss: 0.0133 - accuracy: 0.9974 - val_loss: 0.0636 - val_accuracy: 0.9820\n"
     ]
    }
   ],
   "source": [
    "history = model.fit_generator(\n",
    "    train_gen,\n",
    "    steps_per_epoch=total_train_apples,\n",
    "    epochs=epochs,\n",
    "    validation_data=test_gen,\n",
    "    validation_steps=total_test_apples\n",
    ")"
   ]
  },
  {
   "cell_type": "code",
   "execution_count": 19,
   "metadata": {},
   "outputs": [
    {
     "data": {
      "image/png": "[encoded data removed]",
      "text/plain": [
       "<Figure size 576x576 with 2 Axes>"
      ]
     },
     "metadata": {
      "needs_background": "light"
     },
     "output_type": "display_data"
    }
   ],
   "source": [
    "acc = history.history['accuracy']\n",
    "val_acc = history.history['val_accuracy']\n",
    "\n",
    "loss=history.history['loss']\n",
    "val_loss=history.history['val_loss']\n",
    "\n",
    "epochs_range = range(epochs)\n",
    "\n",
    "plt.figure(figsize=(8, 8))\n",
    "plt.subplot(1, 2, 1)\n",
    "plt.plot(epochs_range, acc, label='Training Accuracy')\n",
    "plt.plot(epochs_range, val_acc, label='Validation Accuracy')\n",
    "plt.legend(loc='lower right')\n",
    "\n",
    "plt.title('Training and Validation Accuracy')\n",
    "\n",
    "plt.subplot(1, 2, 2)\n",
    "plt.plot(epochs_range, loss, label='Training Loss')\n",
    "plt.plot(epochs_range, val_loss, label='Validation Loss')\n",
    "plt.legend(loc='upper right')\n",
    "plt.title('Training and Validation Loss')\n",
    "plt.show()"
   ]
  },
  {
   "cell_type": "code",
   "execution_count": 20,
   "metadata": {},
   "outputs": [],
   "source": [
    "# def prepare(filepath):\n",
    "#     IMG_SIZE = 100\n",
    "#     img_array = cv2.imread(filepath,cv2.IMREAD_GRAYSCALE)\n",
    "#     new_array = cv2.resize(img_array,(IMG_SIZE,IMG_SIZE))\n",
    "#     return new_array.reshape(-3,IMG_SIZE,IMG_SIZE,3)\n",
    "# prep_file = 'apple_1.jpg'\n",
    "# prep_file = tf.cast(prep_file, tf.float32)\n",
    "# prediction = model.predict([prepare(prep_file)])\n",
    "# print(prediction)"
   ]
  },
  {
   "cell_type": "code",
   "execution_count": null,
   "metadata": {},
   "outputs": [],
   "source": []
  }
 ],
 "metadata": {
  "kernelspec": {
   "display_name": "Python 3",
   "language": "python",
   "name": "python3"
  },
  "language_info": {
   "codemirror_mode": {
    "name": "ipython",
    "version": 3
   },
   "file_extension": ".py",
   "mimetype": "text/x-python",
   "name": "python",
   "nbconvert_exporter": "python",
   "pygments_lexer": "ipython3",
   "version": "3.7.4"
  }
 },
 "nbformat": 4,
 "nbformat_minor": 2
}
